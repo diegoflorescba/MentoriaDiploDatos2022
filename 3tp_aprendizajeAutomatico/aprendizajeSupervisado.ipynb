{
 "cells": [
  {
   "cell_type": "markdown",
   "metadata": {},
   "source": [
    "# Selección de cripto activos para una cartera de inversión"
   ]
  },
  {
   "cell_type": "markdown",
   "metadata": {},
   "source": [
    "![picture](https://drive.google.com/uc?export=view&id=1ihM3JEKP-XPaoX9b5bwymu_IF4ntTlz-)"
   ]
  },
  {
   "cell_type": "markdown",
   "metadata": {},
   "source": [
    "# Trabajo Práctico 3 -  Aprendizaje Supervisado"
   ]
  },
  {
   "cell_type": "markdown",
   "metadata": {},
   "source": [
    "# Introducción\n",
    "\n",
    "Una tarea fundamental en el modelado financiero es la predicción del comportamiento de los precios en un futuro cercano. Usando la serie de precios histórica de los activos como datos de entrenamiento, deseamos predecir si el precio subirá o no, y en qué medida, es decir, nos interesa también el rendimiento.\n",
    "\n",
    "La predicción de retornos de criptoactivos es un gran desafío para la comunidad de aprendizaje automático debido a la alta volatilidad de los activos, la manipulación del mercado y la naturaleza no estacionaria de los datos, entre otras cuestiones.  \n",
    "\n",
    "En este práctico aplicaremos algunas técnicas de aprendizaje automático supervisado para predecir el movimiento de activos, a partir de los features que hemos trabajado en el práctico anterior. Exploraremos modelos simples de regresión y clasificación. Para validar los modelos procedemos a evaluar su bondad de ajuste, es decir, que \"tan bueno\" es el poder predictivo del modelo y comparar su desempeño.\n",
    "\n",
    "📌 **Conjunto de Entrenamiento y Test**\n",
    "\n",
    "Para entrenar modelos de ML y seleccionar el más adecuado, debemos particionar los datos en conjuntos de entrenamiento y test (o entrenamiento, validación y test). Si bien la práctica más habitual es seleccionar estos conjuntos al azar, esta metodología no es conveniente cuando trabajamos con series de tiempo, ya que romper la estructura de los datos significa romper la autocorrelación, que es lo que da sentido al análisis. Frente a esto, una posibilidad es realizar la división de datos a partir del procedimiento [Walk-Forward Validation](https://machinelearningmastery.com/backtest-machine-learning-models-time-series-forecasting/), otra es implementar lo que se conoce como [timeSeriesSplit](https://scikit-learn.org/stable/modules/cross_validation.html#time-series-split).\n",
    "\n",
    "¡Los invito a indagar sobre estas metodologías!\n",
    "\n",
    "\n",
    "📌 **Variables Predictoras**\n",
    "\n",
    "Los predictores son datos que consideramos relevantes para el comportamiento del mercado. En nuestro caso, trabajaremos con los indicadores técnicos calculados en el trabajo práctico anterior y algunos que sumaremos al análisis, pero estos pueden ser muy diversos, como datos de sentimiento, datos de amplitud, datos básicos, gubernamentales, etc., que nos ayudarán a hacer nuestras predicciones. \n",
    "\n",
    "\n",
    "\n",
    "📌 **Modelo Baseline**\n",
    "\n",
    "Establecer un baseline es esencial para cualquier problema de predicción. Este modelo nos brinda un punto de comparación, nos da una idea de cuan bien otros modelos rindieron en el problema en cuestión.\n",
    "\n",
    "Si la performance de un modelo no alcanza o es similiar a la del baseline, entonces debemos seguir trabajando para mejorar el modelo u optar por algún otro. Nuestro baseline debe ser fácil de implementar y naive. \n",
    "\n",
    "\n",
    "Algunas opciones simples para baseline: [link](https://medium.com/analytics-vidhya/benchmarking-methods-for-deep-learning-based-time-series-forecast-ec45f78b61e2)."
   ]
  },
  {
   "cell_type": "code",
   "execution_count": null,
   "metadata": {},
   "outputs": [],
   "source": []
  },
  {
   "cell_type": "markdown",
   "metadata": {},
   "source": [
    "# 📖 ¡Actividades!\n",
    "\n",
    "En este práctico evaluaremos el potencial de modelos predictivos simples sobre algunos activos. Esta será la base para construir una canasta de activos con riesgo controlado. \n",
    "\n",
    "**Objetivo: predecir el movimiento del precio de cada activo para los próximos n días (tomaremos n=1, n=7)**\n",
    "\n",
    "## Parte 0 - Feature Engineer\n",
    "\n",
    "Los invito a explorar y agregar otras características además de las trabajadas anteriormente. Como en el práctico pasado, pueden usar la librería talib o calcularlos ustedes.\n",
    "\n",
    "- [Indicadores técnicos](https://coinmarketcap.com/alexandria/article/technical-analysis-101-the-best-technical-indicators-for-crypto-and-stocks)\n",
    "- [Indicadores técnicos en python](https://towardsdatascience.com/building-a-comprehensive-set-of-technical-indicators-in-python-for-quantitative-trading-8d98751b5fb)\n",
    "\n",
    "## Parte I - Clasificación\n",
    "\n",
    "Por ahora nos concentraremos en predecir si el precio del activo subirá o bajará (es decir, si el retorno a n días será positivo o negativo). Para ello entrenaremos algunos modelos de clasificación.\n",
    "\n",
    "- DecisionTreeClassifier\n",
    "- RandomForestClassifier\n",
    "- XGBClassifier\n",
    "\n",
    "En este caso, podemos definir nuestro target como 1 o 0:\n",
    "\n",
    "- Si el rendimiento a n días fue positivo el target tomará el valor 1.\n",
    "- Si el rendimiento a n días fue negativo o cero el target tomará el valor 0.\n",
    "\n",
    "Utilicen métricas adecuadas para la evaluación de los modelos (accuracy, recall, precision, etc) \n",
    "\n",
    "\n",
    "## Parte II - Regresión\n",
    "\n",
    "Ahora nuestro objetivo es implementar modelos sobre los activos para predecir su tasa de cambio (ya sea respecto al precio open o close). Consideren los modelos de regresión:\n",
    "\n",
    "- Desicion tree\n",
    "- Randon Forest\n",
    "- XGBoost\n",
    "\n",
    "\n",
    "Evalúen los resultados, con algunas métricas útiles, tales como Error Cuadrático Medio (RMSE) y el Error Absoluto Medio (MAE). ¿Qué pueden decir?\n",
    "\n",
    "\n",
    "### ¡Para tener en cuenta!\n",
    "\n",
    "- Para los modelos de regresión y clasificación elijan un modelo baseline.\n",
    "- Definir periodos de entrenamiento y test: utilizar librerías adecuadas para series de tiempo.\n",
    "- Dado el periodo de entrenamiento, chequeen si los datos están balaceados.  \n",
    "- Analicen la necesidad de estandarizar los datos, según los modelos empleados.\n",
    "- Ajuste de hiperparámetros de los modelos: dado que los parámetros pueden tomar valores en un amplio rango es recomendable uilizar GridSearchCV. \n",
    "\n",
    "\n",
    "\n",
    "## Opcional - Predicción usando Long short-term memory (LSTM)\n",
    "\n",
    "Las redes de este tipo son adecuadas para clasificar, procesar y hacer predicciones basadas en datos de series temporales, ya que pueden almacenar información pasada. Esto es importante en nuestro caso porque el precio anterior de una acción es crucial para predecir su precio futuro.\n",
    "\n",
    "Comparen la performance de los modelos anteriores (regresión y/o clasificación) con una red neuronal recurrente (LSTM). "
   ]
  },
  {
   "cell_type": "markdown",
   "metadata": {},
   "source": [
    "# Fecha de entrega\n",
    "\n",
    "- __Versión preliminar: 29/7__ "
   ]
  },
  {
   "cell_type": "markdown",
   "metadata": {},
   "source": [
    "# Condiciones de entrega\n",
    "\n",
    "Realizar un informe en el cual se presenten los resultados y conclusiones del análisis desarrollado. El mismo debe estar pensado para un público técnico pero que desconoce los aspectos propios del problema a resolver. Dicho informe puede ser un notebook, a condición de que en el mismo se efectúe un análisis escrito suficientemente detallado de los resultados. "
   ]
  }
 ],
 "metadata": {
  "kernelspec": {
   "display_name": "Python 3",
   "language": "python",
   "name": "python3"
  },
  "language_info": {
   "codemirror_mode": {
    "name": "ipython",
    "version": 3
   },
   "file_extension": ".py",
   "mimetype": "text/x-python",
   "name": "python",
   "nbconvert_exporter": "python",
   "pygments_lexer": "ipython3",
   "version": "3.7.6"
  }
 },
 "nbformat": 4,
 "nbformat_minor": 4
}

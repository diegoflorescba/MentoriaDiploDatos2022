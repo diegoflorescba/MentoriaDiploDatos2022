{
 "cells": [
  {
   "cell_type": "markdown",
   "metadata": {},
   "source": [
    "# Selección de cripto activos para una cartera de inversión"
   ]
  },
  {
   "cell_type": "markdown",
   "metadata": {},
   "source": [
    "![picture](https://drive.google.com/uc?export=view&id=1ihM3JEKP-XPaoX9b5bwymu_IF4ntTlz-)\n"
   ]
  },
  {
   "cell_type": "markdown",
   "metadata": {},
   "source": [
    "# Trabajo Práctico 1 -  Análisis y Visualización"
   ]
  },
  {
   "cell_type": "markdown",
   "metadata": {},
   "source": [
    "## Introducción\n",
    "\n",
    "En el mundo de las finanzas tradicionales, el rendimiento de los activos puede variar bajo diferentes condiciones de mercado, es entonces cuando entra en juego la diversificación. La finalidad de la exposición a diferentes clases de activos es equilibrar el riesgo y el rendimiento de una cartera.\n",
    "\n",
    "Cuando hablamos de cripto activos, la diversificación también es una de las formas de gestionar la exposición al riesgo. Sin embargo, la alta correlación entre algunos activos y su volatilidad, dificulta la selección de una cartera equilibrada. A pesar de ello, con un portafolio cuidadosamente seleccionado de monedas alternativas, junto con algunas monedas estables, se podría invertir en el mercado de manera más efectiva con un riesgo manejable.\n",
    "El objetivo principal de este proyecto es determinar una forma de seleccionar algunos activos para nuestra cartera, tomados de un conjunto más amplio, según los momentos de mercado. Para ello echaremos mano del análisis técnico, que nos ayudará a estudiar el comportamiento del precio de los activos.\n",
    "\n",
    "En este primer práctico se pretende obtener un primer acercamiento a los datos. En primer lugar se cargan y presentan brevemente los datos, luego se proponen las consignas a seguir para la resolución del mismo."
   ]
  },
  {
   "cell_type": "markdown",
   "metadata": {},
   "source": [
    "### 📌 Carga del dataset "
   ]
  },
  {
   "cell_type": "markdown",
   "metadata": {},
   "source": [
    "Primero, se comienza importando las librerías necesarias. Luego, cargamos un único dataset, pero recuerden que en la carpeta **data** tenemos un dataset por cada activo disponible."
   ]
  },
  {
   "cell_type": "code",
   "execution_count": 1,
   "metadata": {},
   "outputs": [],
   "source": [
    "import pandas as pd"
   ]
  },
  {
   "cell_type": "code",
   "execution_count": 7,
   "metadata": {},
   "outputs": [],
   "source": [
    "# Los argumentos index_col=0 y parse_dates se emplean para que la columna FECHA sea usada como índice\n",
    "\n",
    "df = pd.read_csv(\"../data/BTCUSDT.csv\", index_col=0, parse_dates=True, dayfirst= True)"
   ]
  },
  {
   "cell_type": "code",
   "execution_count": 3,
   "metadata": {},
   "outputs": [
    {
     "data": {
      "text/html": [
       "<div>\n",
       "<style scoped>\n",
       "    .dataframe tbody tr th:only-of-type {\n",
       "        vertical-align: middle;\n",
       "    }\n",
       "\n",
       "    .dataframe tbody tr th {\n",
       "        vertical-align: top;\n",
       "    }\n",
       "\n",
       "    .dataframe thead th {\n",
       "        text-align: right;\n",
       "    }\n",
       "</style>\n",
       "<table border=\"1\" class=\"dataframe\">\n",
       "  <thead>\n",
       "    <tr style=\"text-align: right;\">\n",
       "      <th></th>\n",
       "      <th>open</th>\n",
       "      <th>close</th>\n",
       "      <th>high</th>\n",
       "      <th>low</th>\n",
       "      <th>volume</th>\n",
       "    </tr>\n",
       "  </thead>\n",
       "  <tbody>\n",
       "    <tr>\n",
       "      <th>2018-01-01 00:00:00</th>\n",
       "      <td>13715.65</td>\n",
       "      <td>13529.01</td>\n",
       "      <td>13715.65</td>\n",
       "      <td>13400.01</td>\n",
       "      <td>443.356199</td>\n",
       "    </tr>\n",
       "    <tr>\n",
       "      <th>2018-01-01 01:00:00</th>\n",
       "      <td>13528.99</td>\n",
       "      <td>13203.06</td>\n",
       "      <td>13595.89</td>\n",
       "      <td>13155.38</td>\n",
       "      <td>383.697006</td>\n",
       "    </tr>\n",
       "    <tr>\n",
       "      <th>2018-01-01 02:00:00</th>\n",
       "      <td>13203.00</td>\n",
       "      <td>13330.18</td>\n",
       "      <td>13418.43</td>\n",
       "      <td>13200.00</td>\n",
       "      <td>429.064572</td>\n",
       "    </tr>\n",
       "    <tr>\n",
       "      <th>2018-01-01 03:00:00</th>\n",
       "      <td>13330.26</td>\n",
       "      <td>13410.03</td>\n",
       "      <td>13611.27</td>\n",
       "      <td>13290.00</td>\n",
       "      <td>420.087030</td>\n",
       "    </tr>\n",
       "    <tr>\n",
       "      <th>2018-01-01 04:00:00</th>\n",
       "      <td>13434.98</td>\n",
       "      <td>13601.01</td>\n",
       "      <td>13623.29</td>\n",
       "      <td>13322.15</td>\n",
       "      <td>340.807329</td>\n",
       "    </tr>\n",
       "  </tbody>\n",
       "</table>\n",
       "</div>"
      ],
      "text/plain": [
       "                         open     close      high       low      volume\n",
       "2018-01-01 00:00:00  13715.65  13529.01  13715.65  13400.01  443.356199\n",
       "2018-01-01 01:00:00  13528.99  13203.06  13595.89  13155.38  383.697006\n",
       "2018-01-01 02:00:00  13203.00  13330.18  13418.43  13200.00  429.064572\n",
       "2018-01-01 03:00:00  13330.26  13410.03  13611.27  13290.00  420.087030\n",
       "2018-01-01 04:00:00  13434.98  13601.01  13623.29  13322.15  340.807329"
      ]
     },
     "execution_count": 3,
     "metadata": {},
     "output_type": "execute_result"
    }
   ],
   "source": [
    "df.head()"
   ]
  },
  {
   "cell_type": "code",
   "execution_count": 4,
   "metadata": {},
   "outputs": [
    {
     "data": {
      "text/html": [
       "<div>\n",
       "<style scoped>\n",
       "    .dataframe tbody tr th:only-of-type {\n",
       "        vertical-align: middle;\n",
       "    }\n",
       "\n",
       "    .dataframe tbody tr th {\n",
       "        vertical-align: top;\n",
       "    }\n",
       "\n",
       "    .dataframe thead th {\n",
       "        text-align: right;\n",
       "    }\n",
       "</style>\n",
       "<table border=\"1\" class=\"dataframe\">\n",
       "  <thead>\n",
       "    <tr style=\"text-align: right;\">\n",
       "      <th></th>\n",
       "      <th>open</th>\n",
       "      <th>close</th>\n",
       "      <th>high</th>\n",
       "      <th>low</th>\n",
       "      <th>volume</th>\n",
       "    </tr>\n",
       "  </thead>\n",
       "  <tbody>\n",
       "    <tr>\n",
       "      <th>2021-05-16 11:00:00</th>\n",
       "      <td>49574.98</td>\n",
       "      <td>49014.99</td>\n",
       "      <td>49640.28</td>\n",
       "      <td>48912.80</td>\n",
       "      <td>2464.233967</td>\n",
       "    </tr>\n",
       "    <tr>\n",
       "      <th>2021-05-16 12:00:00</th>\n",
       "      <td>49014.99</td>\n",
       "      <td>48622.62</td>\n",
       "      <td>49157.89</td>\n",
       "      <td>48550.63</td>\n",
       "      <td>2925.555177</td>\n",
       "    </tr>\n",
       "    <tr>\n",
       "      <th>2021-05-16 13:00:00</th>\n",
       "      <td>48618.14</td>\n",
       "      <td>48915.73</td>\n",
       "      <td>48999.10</td>\n",
       "      <td>48457.06</td>\n",
       "      <td>3053.929148</td>\n",
       "    </tr>\n",
       "    <tr>\n",
       "      <th>2021-05-16 14:00:00</th>\n",
       "      <td>48915.78</td>\n",
       "      <td>48284.32</td>\n",
       "      <td>49249.06</td>\n",
       "      <td>48036.00</td>\n",
       "      <td>3836.376897</td>\n",
       "    </tr>\n",
       "    <tr>\n",
       "      <th>2021-05-16 15:00:00</th>\n",
       "      <td>48284.32</td>\n",
       "      <td>48013.72</td>\n",
       "      <td>48331.45</td>\n",
       "      <td>47660.09</td>\n",
       "      <td>2315.780180</td>\n",
       "    </tr>\n",
       "  </tbody>\n",
       "</table>\n",
       "</div>"
      ],
      "text/plain": [
       "                         open     close      high       low       volume\n",
       "2021-05-16 11:00:00  49574.98  49014.99  49640.28  48912.80  2464.233967\n",
       "2021-05-16 12:00:00  49014.99  48622.62  49157.89  48550.63  2925.555177\n",
       "2021-05-16 13:00:00  48618.14  48915.73  48999.10  48457.06  3053.929148\n",
       "2021-05-16 14:00:00  48915.78  48284.32  49249.06  48036.00  3836.376897\n",
       "2021-05-16 15:00:00  48284.32  48013.72  48331.45  47660.09  2315.780180"
      ]
     },
     "execution_count": 4,
     "metadata": {},
     "output_type": "execute_result"
    }
   ],
   "source": [
    "df.tail()"
   ]
  },
  {
   "cell_type": "markdown",
   "metadata": {},
   "source": [
    "#### Variables\n",
    "\n",
    "- __Fecha__: se la usa como índice del _pandasDataFrame_.\n",
    "\n",
    "#### Activos\n",
    "\n",
    "Todos los activos están expresados en una misma moneda, *quote*, que en nuestro caso es USDT (un token de USD)\n",
    "\n",
    "- __BTCUSDT__\n",
    "- __ETHUSDT__\n",
    "- __BNBUSDT__\n",
    "- __ADAUSDT__\n",
    "- __DOTUSDT__\n",
    "- __BCHUSDT__\n",
    "- __LTCUSDT__\n",
    "- __LINKUSDT__\n",
    "- __ETCUSDT__\n",
    "- __EOSUSDT__\n",
    "- __XMRUSDT__\n",
    "- __NEOUSDT__\n",
    "- __AAVEUSDT__\n",
    "- __MKRUSDT__\n",
    "- __COMPUSDT__\n",
    "- __DASHUSDT__\n",
    "\n",
    "\n",
    "#### ¿Cuándo opera el mercado?\n",
    "\n",
    "Este es un mercado que trabaja 24/7, es decir, está operando constantemente. En cada caso tenemos datos por hora (por lo tanto, una sesión equivale a una hora) de los diferentes precios **OHLC** de cada activo y el volumen, a saber:\n",
    "\n",
    "- **OPEN :** precio al cual abre el activo, en la sesión.\n",
    "- **HIGH :** mayor precio alcanzado por el activo en la sesión.\n",
    "- **LOW :** menor precio alcanzado por el activo en la sesión.\n",
    "- **CLOSE :** precio del activo al momento de cerrar la sesión. \n",
    "- **VOLUMEN :** cantidad del activo operado en la sesión.\n",
    "\n",
    "Para conocer más sobre estos proyectos, pueden visitar la página [CoinMarketCap](https://coinmarketcap.com/). Allí encontrarán datos interesantes sobre cada par, su posición en el mercado, nacimiento de cada proyecto, entre otros."
   ]
  },
  {
   "cell_type": "markdown",
   "metadata": {},
   "source": [
    "# 📖 ¡Actividades! \n",
    "\n",
    "El objetivo general del práctico es realizar un análsis exploratorio del comportamiento de los __activos__ propuestos.\n",
    "Se plantean algunas sugerencias para explorar las series en forma individual y conjunta por medio de medidas descriptivas y visualizaciones.\n",
    "\n",
    "Como las observaciones se encuentran indexadas en el tiempo, este tipo de datos se conocen como __series de tiempo__, por lo que algunas de las herramientas estadísticas habituales deben interpretarse con cierto cuidado y se pueden usar algunos recursos analíticos adicionales. \n",
    "\n",
    "A continuación comparto algunos links que puede ser de ayuda para el abordaje de nuestro problema.\n",
    "\n",
    "- [Tutorial: Time Series analysis with pandas](https://www.dataquest.io/blog/tutorial-time-series-analysis-with-pandas/)\n",
    "- [Kaggle : Everything you can do with a time series](https://www.kaggle.com/thebrownviking20/everything-you-can-do-with-a-time-series)\n",
    "- [Kaggle: Time series analysis in Python](https://www.kaggle.com/kashnitsky/topic-9-part-1-time-series-analysis-in-python)\n",
    "\n",
    "## Parte I\n",
    "\n",
    "Se proponen las siguientes actividades:\n",
    "\n",
    "\n",
    "- Determinen el tipo de variables y el período de tiempo bajo análisis. ¿El periodo es el mismo para todos los activos?\n",
    "\n",
    "\n",
    "- Indaguen sobre la existencia de valores faltantes. ¿Cómo trataría a los faltantes? ¿Por qué? \n",
    "\n",
    "\n",
    "- Analicen las distribuciones por medio de gráficos y medidas de estadística descriptiva (por ejemplo: media, varianza y coeficiente de variación).\n",
    "\n",
    "\n",
    "- ¿Hay outliers?\n",
    "\n",
    "\n",
    "- Seleccionen un activo y grafique un boxplot para cada mes (y/o semana). ¿La distribución se mantiene constante en el tiempo?\n",
    "\n",
    "\n",
    "- Explore la existencia de estacionalidad.\n",
    "\n",
    "\n",
    "- Estudien la evolución temporal de los activos. ¿En qué sentido tienden a moverse? ¿Detecta períodos de crisis? ¿Los activos tienden a moverse en forma conjunta?  En caso de que existan crisis, ¿son globales o individuales? \n",
    "\n",
    "## Parte II\n",
    "\n",
    "Que el precio de un activo sea mayor al de otro no significa directamente que el primero sea una mejor inversión, entonces, el análisis de este tipo de series se centra por lo general en el cambio porcentual de los precios en vez del cambio en los valores absolutos. Esto resulta en que en vez de modelar los precios de los activos, previamente se habitúa realizar una transformación logarítmica o trabajar con la tasa de rendimiento. \n",
    "\n",
    "\n",
    "- Calculen los logaritmos naturales de los precios de los activos y la serie de tasas de rendimiento (para ello explorar el método pct_change()).\n",
    "\n",
    "\n",
    "- Realicen nuevamente un análisis de las distribuciones por medio de gráficos y medidas de estadística descriptiva con las nuevas series. \n",
    "\n",
    "\n",
    "- Exploren la volatilidad de las series, por ejemplo graficando las desviaciones estándar móviles."
   ]
  },
  {
   "cell_type": "markdown",
   "metadata": {},
   "source": [
    "# Fecha de entrega\n",
    "\n",
    "- __Versión preliminar: 20/5__ "
   ]
  },
  {
   "cell_type": "markdown",
   "metadata": {},
   "source": [
    "# Condiciones de entrega\n",
    "\n",
    "Realizar un informe en el cual se presenten los resultados y conclusiones del análisis desarrollado. El mismo debe estar pensado para un público técnico pero que desconoce los aspectos propios del problema a resolver. Dicho informe puede ser un notebook, a condición de que en el mismo se efectúe un análisis escrito suficientemente detallado de los resultados. "
   ]
  },
  {
   "cell_type": "code",
   "execution_count": null,
   "metadata": {},
   "outputs": [],
   "source": []
  }
 ],
 "metadata": {
  "kernelspec": {
   "display_name": "Python 3",
   "language": "python",
   "name": "python3"
  },
  "language_info": {
   "codemirror_mode": {
    "name": "ipython",
    "version": 3
   },
   "file_extension": ".py",
   "mimetype": "text/x-python",
   "name": "python",
   "nbconvert_exporter": "python",
   "pygments_lexer": "ipython3",
   "version": "3.7.6"
  }
 },
 "nbformat": 4,
 "nbformat_minor": 2
}
